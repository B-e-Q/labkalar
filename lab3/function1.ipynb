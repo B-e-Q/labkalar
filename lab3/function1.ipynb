{
 "cells": [
  {
   "cell_type": "code",
   "execution_count": null,
   "metadata": {},
   "outputs": [
    {
     "data": {
      "text/plain": [
       "85.0485693\n"
      ]
     },
     "metadata": {},
     "output_type": "display_data"
    }
   ],
   "source": [
    "#1\n",
    "def to_ounces(grams):\n",
    "    return 28.3495231 * grams\n",
    "\n",
    "print(to_ounces(3))"
   ]
  },
  {
   "cell_type": "code",
   "execution_count": null,
   "metadata": {},
   "outputs": [
    {
     "data": {
      "text/plain": [
       "-16.11111111111111\n"
      ]
     },
     "metadata": {},
     "output_type": "display_data"
    }
   ],
   "source": [
    "#2\n",
    "def to_centigrade(F):\n",
    "    return (5 / 9) * (F - 32)\n",
    "\n",
    "print(to_centigrade(3))"
   ]
  },
  {
   "cell_type": "code",
   "execution_count": null,
   "metadata": {},
   "outputs": [
    {
     "data": {
      "text/plain": [
       "(23, 12)\n"
      ]
     },
     "metadata": {},
     "output_type": "display_data"
    }
   ],
   "source": [
    "#3\n",
    "def solve(numheads, numlegs):\n",
    "    for i in range (1 , numheads + 1):\n",
    "        if i*2 + (numheads - i) * 4 == numlegs:\n",
    "            return i, numheads - i\n",
    "    return 0, 0\n",
    "\n",
    "print(solve(35, 94))"
   ]
  },
  {
   "cell_type": "code",
   "execution_count": null,
   "metadata": {},
   "outputs": [
    {
     "data": {
      "text/plain": [
       "[2, 3, 5, 7, 9, 11, 13, 15, 17]\n"
      ]
     },
     "metadata": {},
     "output_type": "display_data"
    }
   ],
   "source": [
    "#4\n",
    "def isprime(n):\n",
    "    if n <= 1:\n",
    "        return False\n",
    "    for i in range(2, n):\n",
    "        if n % 2 == 0:\n",
    "            return False\n",
    "    return True\n",
    "\n",
    "numlist = [2, 3, 4, 5, 6, 7, 8, 9, 10, 11, 12, 13, 14, 15, 16, 17]\n",
    "\n",
    "prime_numlist = list(filter(lambda x: isprime(x), numlist))\n",
    "\n",
    "print(prime_numlist)"
   ]
  },
  {
   "cell_type": "code",
   "execution_count": null,
   "metadata": {},
   "outputs": [
    {
     "data": {
      "text/plain": [
       "['hello', 'helol', 'hello', 'helol', 'heoll', 'heoll', 'hlelo', 'hleol', 'hlleo', 'hlloe', 'hloel', 'hlole', 'hlelo', 'hleol', 'hlleo', 'hlloe', 'hloel', 'hlole', 'hoell', 'hoell', 'holel', 'holle', 'holel', 'holle', 'ehllo', 'ehlol', 'ehllo', 'ehlol', 'eholl', 'eholl', 'elhlo', 'elhol', 'ellho', 'elloh', 'elohl', 'elolh', 'elhlo', 'elhol', 'ellho', 'elloh', 'elohl', 'elolh', 'eohll', 'eohll', 'eolhl', 'eollh', 'eolhl', 'eollh', 'lhelo', 'lheol', 'lhleo', 'lhloe', 'lhoel', 'lhole', 'lehlo', 'lehol', 'lelho', 'leloh', 'leohl', 'leolh', 'llheo', 'llhoe', 'lleho', 'lleoh', 'llohe', 'lloeh', 'lohel', 'lohle', 'loehl', 'loelh', 'lolhe', 'loleh', 'lhelo', 'lheol', 'lhleo', 'lhloe', 'lhoel', 'lhole', 'lehlo', 'lehol', 'lelho', 'leloh', 'leohl', 'leolh', 'llheo', 'llhoe', 'lleho', 'lleoh', 'llohe', 'lloeh', 'lohel', 'lohle', 'loehl', 'loelh', 'lolhe', 'loleh', 'ohell', 'ohell', 'ohlel', 'ohlle', 'ohlel', 'ohlle', 'oehll', 'oehll', 'oelhl', 'oellh', 'oelhl', 'oellh', 'olhel', 'olhle', 'olehl', 'olelh', 'ollhe', 'olleh', 'olhel', 'olhle', 'olehl', 'olelh', 'ollhe', 'olleh']\n"
      ]
     },
     "metadata": {},
     "output_type": "display_data"
    }
   ],
   "source": [
    "#5\n",
    "def next_permutation(s):\n",
    "    if len(s)==1:\n",
    "        return [s]\n",
    "    new=[]\n",
    "    for i in range(len(s)):\n",
    "        for x in next_permutation(s[:i]+s[i+1:]):\n",
    "            new.append(s[i]+x)\n",
    "    return new\n",
    "print(next_permutation(\"hello\"))"
   ]
  },
  {
   "cell_type": "code",
   "execution_count": null,
   "metadata": {},
   "outputs": [
    {
     "data": {
      "text/plain": [
       "ready are We\n"
      ]
     },
     "metadata": {},
     "output_type": "display_data"
    }
   ],
   "source": [
    "#6\n",
    "string = input(\"write: \")\n",
    "sentence = string.split()\n",
    "sentence.reverse()\n",
    "print(*sentence)"
   ]
  },
  {
   "cell_type": "code",
   "execution_count": null,
   "metadata": {},
   "outputs": [
    {
     "data": {
      "text/plain": [
       "True\n",
       "False\n",
       "False\n"
      ]
     },
     "metadata": {},
     "output_type": "display_data"
    }
   ],
   "source": [
    "\n",
    "#7\n",
    "def has_33(nums):\n",
    "    for i in range(1, len(nums)):\n",
    "        if(nums[i] == 3 and nums[i] == nums[i-1]):\n",
    "            print(True)\n",
    "            return True\n",
    "    print(False)\n",
    "    return False\n",
    "\n",
    "has_33([1, 3, 3]) \n",
    "has_33([1, 3, 1, 3])\n",
    "has_33([3, 1, 3]) "
   ]
  },
  {
   "cell_type": "code",
   "execution_count": null,
   "metadata": {},
   "outputs": [
    {
     "data": {
      "text/plain": [
       "True\n",
       "True\n",
       "False\n"
      ]
     },
     "metadata": {},
     "output_type": "display_data"
    }
   ],
   "source": [
    "#8\n",
    "def spy_game(nums):\n",
    "    numzero = 0\n",
    "    numseven = 0\n",
    "    for i in nums:\n",
    "        if i == 0:\n",
    "            numzero+=1\n",
    "        elif numzero == 2 and i == 7:\n",
    "            print(True)\n",
    "            return True\n",
    "    print(False)\n",
    "    return False\n",
    "\n",
    "spy_game([1,2,4,0,0,7,5])\n",
    "spy_game([1,0,2,4,0,5,7])\n",
    "spy_game([1,7,2,0,4,5,0])"
   ]
  },
  {
   "cell_type": "code",
   "execution_count": null,
   "metadata": {},
   "outputs": [
    {
     "data": {
      "text/plain": [
       "268.082573106329\n"
      ]
     },
     "metadata": {},
     "output_type": "display_data"
    }
   ],
   "source": [
    "#9\n",
    "import math\n",
    "def areaOfSphere(r):\n",
    "    print(4/3 *math.pi * r**3)\n",
    "    return 4/3 *math.pi * r**3\n",
    "\n",
    "areaOfSphere(4)\n"
   ]
  },
  {
   "cell_type": "code",
   "execution_count": null,
   "metadata": {},
   "outputs": [
    {
     "data": {
      "text/plain": [
       "1 2 3 4 5 7 8\n"
      ]
     },
     "metadata": {},
     "output_type": "display_data"
    }
   ],
   "source": [
    "#10\n",
    "def uniquelist(arr):\n",
    "    arr.sort()\n",
    "    unique_arr = []\n",
    "    for i in arr:\n",
    "        if i not in unique_arr:\n",
    "            unique_arr.append(i)\n",
    "    print(*unique_arr)\n",
    "    return unique_arr\n",
    "\n",
    "uniquelist([1, 4, 5, 2, 5, 3, 1, 5, 8, 5, 3, 4, 5, 1, 7])"
   ]
  },
  {
   "cell_type": "code",
   "execution_count": null,
   "metadata": {},
   "outputs": [
    {
     "data": {
      "text/plain": [
       "False\n",
       "True\n"
      ]
     },
     "metadata": {},
     "output_type": "display_data"
    }
   ],
   "source": [
    "#11\n",
    "def is_polindrom(s):\n",
    "    revs = s[::-1]\n",
    "    if revs == s:\n",
    "        print(True)\n",
    "        return True\n",
    "    print(False)\n",
    "    return False\n",
    "\n",
    "is_polindrom(\"Hello\")\n",
    "is_polindrom(\"kazak\")"
   ]
  },
  {
   "cell_type": "code",
   "execution_count": null,
   "metadata": {},
   "outputs": [
    {
     "data": {
      "text/plain": [
       "****\n",
       "*********\n",
       "*******\n"
      ]
     },
     "metadata": {},
     "output_type": "display_data"
    }
   ],
   "source": [
    "#12\n",
    "def histogram(length):\n",
    "    for i in length:\n",
    "        print('*' * i)\n",
    "\n",
    "histogram([4, 9, 7])"
   ]
  },
  {
   "cell_type": "code",
   "execution_count": null,
   "metadata": {},
   "outputs": [
    {
     "data": {
      "text/plain": [
       "Hello! What is your name?\n",
       "Well, KBTU, I am thinking of a number between 1 and 20.\n",
       "Take a guess.\n",
       "\n",
       "Your guess is too low.\n",
       "Take a guess.\n",
       "\n",
       "Your guess is too low.\n",
       "Take a guess.\n",
       "\n",
       "Your guess is too low.\n",
       "Take a guess.\n",
       "\n",
       "Your guess is too low.\n",
       "Take a guess.\n",
       "\n",
       "Your guess is too low.\n",
       "Take a guess.\n",
       "\n",
       "Your guess is too low.\n",
       "Take a guess.\n",
       "\n",
       "Your guess is too low.\n",
       "Take a guess.\n",
       "\n",
       "Your guess is too low.\n",
       "Take a guess.\n",
       "\n",
       "Your guess is too low.\n",
       "Take a guess.\n",
       "\n",
       "Your guess is too low.\n",
       "Take a guess.\n",
       "\n",
       "Your guess is too low.\n",
       "Take a guess.\n",
       "\n",
       "Your guess is too low.\n",
       "Take a guess.\n",
       "\n",
       "Your guess is too low.\n",
       "Take a guess.\n",
       "\n",
       "Your guess is too low.\n",
       "Take a guess.\n",
       "\n",
       "Your guess is too low.\n",
       "Take a guess.\n",
       "Good job, KBTU! You guessed my number in 13 guesses!\n"
      ]
     },
     "metadata": {},
     "output_type": "display_data"
    }
   ],
   "source": [
    "import random\n",
    "n = random.randint(1,21)\n",
    "\n",
    "print(\"Hello! What is your name?\")\n",
    "name = input(\"\")\n",
    "print(f\"Well, {name}, I am thinking of a number between 1 and 20.\\nTake a guess.\")\n",
    "g = int(input())\n",
    "while g != n:\n",
    "    if g < n:\n",
    "        print(\"\\nYour guess is too low.\\nTake a guess.\")\n",
    "    else:\n",
    "        print(\"\\nYour guess is too low.\\nTake a guess.\")\n",
    "    g = int(input())\n",
    "print(f\"Good job, KBTU! You guessed my number in {n} guesses!\")"
   ]
  }
 ],
 "metadata": {
  "language_info": {
   "name": "python"
  }
 },
 "nbformat": 4,
 "nbformat_minor": 2
}
